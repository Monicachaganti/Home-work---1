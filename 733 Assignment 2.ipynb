{
  "nbformat": 4,
  "nbformat_minor": 0,
  "metadata": {
    "colab": {
      "provenance": []
    },
    "kernelspec": {
      "name": "python3",
      "display_name": "Python 3"
    },
    "language_info": {
      "name": "python"
    }
  },
  "cells": [
    {
      "cell_type": "code",
      "execution_count": null,
      "metadata": {
        "id": "AS1tBNk3lc31"
      },
      "outputs": [],
      "source": [
        "#Question 1\n",
        "!pip install pandas\n",
        "!pip install pandas-profiling\n",
        "import pandas as pd\n",
        "import pandas_profiling as pp\n",
        "from pandas_profiling import ProfileReport\n",
        "#Dtaframe is created by reading the CSV file\n",
        "path = \"/content/red-wine.csv\"\n",
        "ds = pd.read_csv('red-wine.csv')\n",
        "#Generating a profile report\n",
        "profile = ProfileReport(df)\n",
        "#Profile report being saved as an HTML file\n",
        "profile = pp.ProfileReport(df)\n",
        "profile.to_file('red-wine_profile.html')\n",
        "\n",
        "#Question 2\n",
        "import matplotlib.pyplotas plot\n",
        "#model name and performance metrics\n",
        "model_name = [\"ZerosR\", \"OneR\", \"LR\", \"NB\", \"DT\", \"SVM\", \"RF\"]\n",
        "accuracies = [0.877, 0.870, 0.932, 0.889, 0.998, 0.939, 0.999]\n",
        "#Bar graph\n",
        "plt.bar(model_name, accuraices)\n",
        "plt.title(\"Model Performance Metrix\")\n",
        "plt.xlabel(\"Model\")\n",
        "plt.ylabel(\"Accuracy\")\n",
        "plt.ylim([0.85,1])\n",
        "plt.show()\n",
        "\n",
        "#Question 4\n",
        "import numpy as np\n",
        "import pandas as pd\n",
        "from sklearn.preprocessing import StandardScaler\n",
        "from sk.learn naive_bayes import GaussianNB\n",
        "from sklearn.metrics import roc_auc_score\n",
        "\n",
        "# Loading the white-wine.csv dataset \n",
        "data = pd.read_csv('white_wine.csv')\n",
        "#separating the features and target variables\n",
        "x = data.drop('type', axis = 1)\n",
        "y = data['type']\n",
        "#Scaling the features \n",
        "scaler = StandardScaler()\n",
        "x = scaler.fit_transform(x)\n",
        "#Training the naive bayes classifier\n",
        "nb = GaussianNB()\n",
        "nb.fit(x,y)\n",
        "#Calculating the predicted probabilities of the target\n",
        "y_predicted_probability = nb.predict_probability(x)[:, 1]\n",
        "#Calculating the AUC score\n",
        "auc_score = roc_auc_score(y, y_predicted_probability)\n",
        "print('AUC score:', auc_score)"
      ]
    }
  ]
}